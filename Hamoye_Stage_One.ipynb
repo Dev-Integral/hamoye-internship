{
  "nbformat": 4,
  "nbformat_minor": 0,
  "metadata": {
    "colab": {
      "name": "Hamoye Stage One.ipynb",
      "provenance": []
    },
    "kernelspec": {
      "name": "python3",
      "display_name": "Python 3"
    }
  },
  "cells": [
    {
      "cell_type": "markdown",
      "metadata": {
        "id": "KLj2lhZ8_IpS",
        "colab_type": "text"
      },
      "source": [
        "Hamoye stage one practice\n"
      ]
    },
    {
      "cell_type": "code",
      "metadata": {
        "id": "8oMIYaYF_HYC",
        "colab_type": "code",
        "colab": {
          "base_uri": "https://localhost:8080/",
          "height": 71
        },
        "outputId": "34308287-b574-4f1e-9913-f2b42bae7785"
      },
      "source": [
        "#Essential libraries\n",
        "import numpy as np\n",
        "import pandas as pd \n",
        "import seaborn as sb\n"
      ],
      "execution_count": null,
      "outputs": [
        {
          "output_type": "stream",
          "text": [
            "/usr/local/lib/python3.6/dist-packages/statsmodels/tools/_testing.py:19: FutureWarning: pandas.util.testing is deprecated. Use the functions in the public API at pandas.testing instead.\n",
            "  import pandas.util.testing as tm\n"
          ],
          "name": "stderr"
        }
      ]
    },
    {
      "cell_type": "code",
      "metadata": {
        "id": "cCcI_VGRBU7z",
        "colab_type": "code",
        "colab": {}
      },
      "source": [
        "url = 'https://bit.ly/HDSC-StageOneDataset'\n",
        "test_data = pd.read_csv(url, error_bad_lines=False)\n",
        "test_data.describe()\n",
        "test_data.\n"
      ],
      "execution_count": null,
      "outputs": []
    },
    {
      "cell_type": "code",
      "metadata": {
        "id": "6ugx3MW5xJV5",
        "colab_type": "code",
        "colab": {}
      },
      "source": [
        "#Question 2\n",
        "\n",
        "np.identity(3)\n",
        "np.array([[1,0,0],[0,1,0],[0,0,1]])\n"
      ],
      "execution_count": null,
      "outputs": []
    },
    {
      "cell_type": "code",
      "metadata": {
        "id": "bD3Z_V6j05in",
        "colab_type": "code",
        "colab": {}
      },
      "source": [
        ""
      ],
      "execution_count": null,
      "outputs": []
    },
    {
      "cell_type": "code",
      "metadata": {
        "id": "oRKPmAqYrzu0",
        "colab_type": "code",
        "colab": {
          "base_uri": "https://localhost:8080/",
          "height": 102
        },
        "outputId": "42902d4b-d91f-4028-eeeb-049a02a765b2"
      },
      "source": [
        "# Question 9\n",
        " import numpy as np\n",
        " \n",
        " grouped = test_data.groupby(['report_year', 'fuel_type_code_pudl'])\n",
        " fuel_burned_1998 = 0\n",
        " fuel_burned_1994 = 0\n",
        "for name,group in grouped:\n",
        "   if( (name) == (1998, \"coal\")):\n",
        "       fuel_burned_1998 = group.fuel_cost_per_unit_burned.sum()\n",
        "       print(str(name))\n",
        "       print(fuel_burned_1998)\n",
        "   elif( (name) == (1994,'coal')):\n",
        "       fuel_burned_1994 = group.fuel_cost_per_unit_burned.sum()\n",
        "       print(name)\n",
        "       print(fuel_burned_1994)\n",
        "\n",
        " # computing peercentage\n",
        "\n",
        " percent = ((fuel_burned_1998 - fuel_burned_1994)/fuel_burned_1994)*100\n",
        " percent"
      ],
      "execution_count": null,
      "outputs": [
        {
          "output_type": "stream",
          "text": [
            "(1994, 'coal')\n",
            "14984.572000000002\n",
            "(1998, 'coal')\n",
            "11902.597\n"
          ],
          "name": "stdout"
        },
        {
          "output_type": "execute_result",
          "data": {
            "text/plain": [
              "-20.56765451826053"
            ]
          },
          "metadata": {
            "tags": []
          },
          "execution_count": 22
        }
      ]
    },
    {
      "cell_type": "code",
      "metadata": {
        "id": "_wPD0tkk4hvN",
        "colab_type": "code",
        "colab": {}
      },
      "source": [
        " #question 10\n",
        " grouped = test_data.groupby('report_year')['fuel_cost_per_unit_delivered'].mean().nlargest(28)\n",
        " grouped"
      ],
      "execution_count": null,
      "outputs": []
    },
    {
      "cell_type": "code",
      "metadata": {
        "id": "zJX0neXB7tx8",
        "colab_type": "code",
        "colab": {}
      },
      "source": [
        "grouped = test_data.groupby(['report_year', 'fuel_type_code_pudl'])\n",
        " fuel_burned_1998 = 0\n",
        " fuel_burned_1994 = 0\n",
        "for name,group in grouped:\n",
        "   if( (name) == (1998, \"coal\")):\n",
        "       fuel_burned_1998 = group.fuel_cost_per_unit_burned.sum()\n",
        "       print(str(name))\n",
        "       print(fuel_burned_1998)\n",
        "   elif( (name) == (1994,'coal')):\n",
        "       fuel_burned_1994 = group.fuel_cost_per_unit_burned.sum()\n",
        "       print(name)\n",
        "       print(fuel_burned_1994)\n",
        "\n",
        " # computing peercentage\n",
        "\n",
        " percent = ((fuel_burned_1998 - fuel_burned_1994)/fuel_burned_1994)*100\n",
        " percent"
      ],
      "execution_count": null,
      "outputs": []
    },
    {
      "cell_type": "code",
      "metadata": {
        "id": "GKmD4-YL92QA",
        "colab_type": "code",
        "colab": {
          "base_uri": "https://localhost:8080/",
          "height": 221
        },
        "outputId": "0e59c423-188a-4ac5-d610-db388631baa0"
      },
      "source": [
        "test_data.isnull().sum()"
      ],
      "execution_count": null,
      "outputs": [
        {
          "output_type": "execute_result",
          "data": {
            "text/plain": [
              "record_id                         0\n",
              "utility_id_ferc1                  0\n",
              "report_year                       0\n",
              "plant_name_ferc1                  0\n",
              "fuel_type_code_pudl               0\n",
              "fuel_unit                       180\n",
              "fuel_qty_burned                   0\n",
              "fuel_mmbtu_per_unit               0\n",
              "fuel_cost_per_unit_burned         0\n",
              "fuel_cost_per_unit_delivered      0\n",
              "fuel_cost_per_mmbtu               0\n",
              "dtype: int64"
            ]
          },
          "metadata": {
            "tags": []
          },
          "execution_count": 57
        }
      ]
    },
    {
      "cell_type": "code",
      "metadata": {
        "id": "dspD8pRjjbdu",
        "colab_type": "code",
        "colab": {
          "base_uri": "https://localhost:8080/",
          "height": 34
        },
        "outputId": "47659028-b28c-400a-d176-46b5aac5189a"
      },
      "source": [
        "!git remote add origin https://github.com/OPTIMUS004/hamoye-internship.git\n"
      ],
      "execution_count": 3,
      "outputs": [
        {
          "output_type": "stream",
          "text": [
            "fatal: not a git repository (or any of the parent directories): .git\n"
          ],
          "name": "stdout"
        }
      ]
    }
  ]
}